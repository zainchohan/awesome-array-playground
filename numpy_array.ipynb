{
 "cells": [
  {
   "cell_type": "code",
   "execution_count": 2,
   "id": "e74162ec",
   "metadata": {},
   "outputs": [],
   "source": [
    "import numpy as np"
   ]
  },
  {
   "cell_type": "code",
   "execution_count": 40,
   "id": "a6bf3bcc",
   "metadata": {},
   "outputs": [
    {
     "data": {
      "text/plain": [
       "array([0., 0., 0., 0., 0., 0., 0., 0., 0., 0.])"
      ]
     },
     "execution_count": 40,
     "metadata": {},
     "output_type": "execute_result"
    }
   ],
   "source": [
    "#Question 1\n",
    "#1.\tCreate a numpy array of size 10, filled with zeros\n",
    "A=np.zeros(10)\n",
    "A"
   ]
  },
  {
   "cell_type": "code",
   "execution_count": 11,
   "id": "2a2202d6",
   "metadata": {},
   "outputs": [
    {
     "name": "stdout",
     "output_type": "stream",
     "text": [
      "[10. 11. 12. 13. 14. 15. 16. 17. 18. 19. 20. 21. 22. 23. 24. 25. 26. 27.\n",
      " 28. 29. 30. 31. 32. 33. 34. 35. 36. 37. 38. 39. 40. 41. 42. 43. 44. 45.\n",
      " 46. 47. 48. 49.]\n"
     ]
    }
   ],
   "source": [
    "#Question 2\n",
    "#2.\tCreate a numpy array with values ranging from 10 to 49 and set its datatype to float\n",
    "a = np.arange(10,50)\n",
    "b = np.array((a), dtype=float)\n",
    "print(b)"
   ]
  },
  {
   "cell_type": "code",
   "execution_count": 62,
   "id": "6e2241b6",
   "metadata": {},
   "outputs": [
    {
     "name": "stdout",
     "output_type": "stream",
     "text": [
      "[[1 1]\n",
      " [1 1]]\n"
     ]
    }
   ],
   "source": [
    "#Question 3\n",
    "#3.\tCreate a numpy matrix of 2*2 integers, filled with ones\n",
    "\n",
    "x= np.ones((2,2), dtype=int)\n",
    "\n",
    "print(x)"
   ]
  },
  {
   "cell_type": "code",
   "execution_count": 93,
   "id": "f7675283",
   "metadata": {},
   "outputs": [
    {
     "name": "stdout",
     "output_type": "stream",
     "text": [
      "[[1 1]\n",
      " [1 1]\n",
      " [1 1]]\n"
     ]
    },
    {
     "data": {
      "text/plain": [
       "(3, 2)"
      ]
     },
     "execution_count": 93,
     "metadata": {},
     "output_type": "execute_result"
    }
   ],
   "source": [
    "#Question 4\n",
    "#4.\tCreate a numpy matrix of 3*2 float numbers, filled with ones.\n",
    "\n",
    "z= np.ones((3,2), dtype=int)\n",
    "\n",
    "print(z)\n",
    "z.shape"
   ]
  },
  {
   "cell_type": "code",
   "execution_count": null,
   "id": "0042f800",
   "metadata": {},
   "outputs": [],
   "source": [
    "#5.\tGiven the X numpy array, create a new numpy array with the same shape and type as X, \n",
    "#filled with ones. (#hint: search the function np.ones_like( ) )"
   ]
  },
  {
   "cell_type": "code",
   "execution_count": 94,
   "id": "d6cbf308",
   "metadata": {},
   "outputs": [
    {
     "name": "stdout",
     "output_type": "stream",
     "text": [
      "Matrix b : \n",
      " [[1 1]\n",
      " [1 1]\n",
      " [1 1]]\n"
     ]
    }
   ],
   "source": [
    "x = (np.ones_like(z,int))\n",
    "print(\"Matrix b : \\n\", x)"
   ]
  },
  {
   "cell_type": "code",
   "execution_count": 57,
   "id": "a50f3efc",
   "metadata": {},
   "outputs": [
    {
     "data": {
      "text/plain": [
       "array([[0., 0.],\n",
       "       [0., 0.],\n",
       "       [0., 0.]])"
      ]
     },
     "execution_count": 57,
     "metadata": {},
     "output_type": "execute_result"
    }
   ],
   "source": [
    "#6.\tGiven the X numpy matrix, create a new numpy matrix with the same shape and type as X, \n",
    "#filled with zeros. (hint: similar function as above exists for zeros as well)\n",
    "\n",
    "u=np.zeros((3,2))\n",
    "u"
   ]
  },
  {
   "cell_type": "code",
   "execution_count": 95,
   "id": "dea21b3b",
   "metadata": {},
   "outputs": [
    {
     "data": {
      "text/plain": [
       "array([[5, 5, 5, 5],\n",
       "       [5, 5, 5, 5],\n",
       "       [5, 5, 5, 5],\n",
       "       [5, 5, 5, 5]])"
      ]
     },
     "execution_count": 95,
     "metadata": {},
     "output_type": "execute_result"
    }
   ],
   "source": [
    "#7.\tCreate a numpy matrix of 4*4 integers, filled with fives\n",
    "x=np.full((4,4),5)\n",
    "x"
   ]
  },
  {
   "cell_type": "code",
   "execution_count": 75,
   "id": "286c31ce",
   "metadata": {},
   "outputs": [
    {
     "data": {
      "text/plain": [
       "array([[7, 7, 7, 7],\n",
       "       [7, 7, 7, 7],\n",
       "       [7, 7, 7, 7],\n",
       "       [7, 7, 7, 7]])"
      ]
     },
     "execution_count": 75,
     "metadata": {},
     "output_type": "execute_result"
    }
   ],
   "source": [
    "#8.\tGiven the X numpy matrix, create a new numpy matrix with the same shape and type as X, filled with sevens.\n",
    "x=np.full_like(x,7)\n",
    "x"
   ]
  },
  {
   "cell_type": "code",
   "execution_count": 97,
   "id": "5c9fb504",
   "metadata": {},
   "outputs": [
    {
     "data": {
      "text/plain": [
       "array([[1., 0., 0.],\n",
       "       [0., 1., 0.],\n",
       "       [0., 0., 1.]])"
      ]
     },
     "execution_count": 97,
     "metadata": {},
     "output_type": "execute_result"
    }
   ],
   "source": [
    "#9.\tCreate a 3*3 identity numpy matrix with ones on the diagonal and zeros elsewhere.\n",
    "x=np.eye((3))\n",
    "x"
   ]
  },
  {
   "cell_type": "code",
   "execution_count": 126,
   "id": "34e34d24",
   "metadata": {},
   "outputs": [
    {
     "data": {
      "text/plain": [
       "array([6, 3, 9])"
      ]
     },
     "execution_count": 126,
     "metadata": {},
     "output_type": "execute_result"
    }
   ],
   "source": [
    "#10.\tCreate a numpy array, filled with 3 random integer values between 1 and 10.\n",
    "y=np.random.randint(1,11, size=3)\n",
    "y"
   ]
  },
  {
   "cell_type": "code",
   "execution_count": 122,
   "id": "696bca22",
   "metadata": {
    "scrolled": true
   },
   "outputs": [
    {
     "name": "stdout",
     "output_type": "stream",
     "text": [
      "[[[48. 46. 79.]\n",
      "  [39. 24. 94.]\n",
      "  [22. 68. 20.]]\n",
      "\n",
      " [[99. 97. 90.]\n",
      "  [56. 93. 14.]\n",
      "  [21. 47.  9.]]\n",
      "\n",
      " [[30. 58. 92.]\n",
      "  [76. 19. 41.]\n",
      "  [70. 98. 15.]]]\n"
     ]
    }
   ],
   "source": [
    "#11.\tCreate a 3*3*3 numpy matrix, filled with random float values.\n",
    "A = np.random.randint(100, size=(3, 3, 3))\n",
    "arr = A.astype('float64') \n",
    "  \n",
    "# Print the array after changing \n",
    "# the data type \n",
    "print(arr) "
   ]
  },
  {
   "cell_type": "code",
   "execution_count": 145,
   "id": "90a46e7a",
   "metadata": {},
   "outputs": [
    {
     "name": "stdout",
     "output_type": "stream",
     "text": [
      "[ 1  2  3  4  5  6  7  8  9 10]\n"
     ]
    }
   ],
   "source": [
    "#12.\tCreate a numpy array with numbers from 1 to 10\n",
    "u = np.arange(1,11)\n",
    "print(u)"
   ]
  },
  {
   "cell_type": "code",
   "execution_count": 151,
   "id": "8ea17759",
   "metadata": {},
   "outputs": [
    {
     "name": "stdout",
     "output_type": "stream",
     "text": [
      "[1 3 5 7 9]\n"
     ]
    }
   ],
   "source": [
    "#13.\tCreate a numpy array with the odd numbers between 1 to 10\n",
    "u1 = np.arange(1,11,2)\n",
    "\n",
    "# 2nd method\n",
    "# l=np.where(u%2==0)\n",
    "\n",
    "print(u1)"
   ]
  },
  {
   "cell_type": "code",
   "execution_count": 157,
   "id": "d9a05292",
   "metadata": {},
   "outputs": [
    {
     "name": "stdout",
     "output_type": "stream",
     "text": [
      "[10  9  8  7  6  5  4  3  2  1]\n"
     ]
    }
   ],
   "source": [
    "# 14.\tCreate a numpy array with numbers from 1 to 10, in descending order\n",
    "u2 = np.arange(1,11)\n",
    "\n",
    "u3 = u2[::-1]\n",
    "print(u3)"
   ]
  },
  {
   "cell_type": "code",
   "execution_count": 167,
   "id": "6214cca7",
   "metadata": {},
   "outputs": [
    {
     "name": "stdout",
     "output_type": "stream",
     "text": [
      "[[0 1 2]\n",
      " [3 4 5]\n",
      " [6 7 8]]\n"
     ]
    }
   ],
   "source": [
    "#15.\tCreate a 3*3 numpy matrix, filled with values ranging from 0 to 8\n",
    "\n",
    "t = np.arange(9).reshape(3, 3)\n",
    "print(t)"
   ]
  },
  {
   "cell_type": "code",
   "execution_count": 34,
   "id": "1c0da843",
   "metadata": {},
   "outputs": [
    {
     "name": "stdout",
     "output_type": "stream",
     "text": [
      "First Element : A\n"
     ]
    }
   ],
   "source": [
    "#Array indexing:\n",
    "#1.\tGiven the X numpy array, show its first element\n",
    "\n",
    "x = np.array(['A','B','C','D','E'])\n",
    "print(\"First Element :\", x[0])\n"
   ]
  },
  {
   "cell_type": "code",
   "execution_count": 36,
   "id": "bf8c13e3",
   "metadata": {},
   "outputs": [
    {
     "name": "stdout",
     "output_type": "stream",
     "text": [
      "First Element : E\n"
     ]
    }
   ],
   "source": [
    "#2.\tGiven the X numpy array, show its last element\n",
    "print(\"First Element :\", x[-1])"
   ]
  },
  {
   "cell_type": "code",
   "execution_count": 170,
   "id": "8b8d21e0",
   "metadata": {},
   "outputs": [
    {
     "name": "stdout",
     "output_type": "stream",
     "text": [
      "first three elements : ['A' 'B' 'C']\n"
     ]
    }
   ],
   "source": [
    "#3.\tGiven the X numpy array, show its first three elements\n",
    "print(\"first three elements :\", x[0:3])"
   ]
  },
  {
   "cell_type": "code",
   "execution_count": 204,
   "id": "2234e80c",
   "metadata": {},
   "outputs": [
    {
     "name": "stdout",
     "output_type": "stream",
     "text": [
      "C\n"
     ]
    }
   ],
   "source": [
    "#4.\tGiven the X numpy array, show all middle elements\n",
    "mid = len(x) // 2\n",
    "\n",
    "# Show all middle elements\n",
    "mid_elements = x[mid]\n",
    "print(mid_elements)"
   ]
  },
  {
   "cell_type": "code",
   "execution_count": 205,
   "id": "8330d537",
   "metadata": {},
   "outputs": [
    {
     "name": "stdout",
     "output_type": "stream",
     "text": [
      "['E' 'D' 'C' 'B' 'A']\n"
     ]
    }
   ],
   "source": [
    "#5.\tGiven the X numpy array, show the elements in reverse position.\n",
    "y1=x[::-1]\n",
    "print(y1)"
   ]
  },
  {
   "cell_type": "code",
   "execution_count": 215,
   "id": "050e959c",
   "metadata": {},
   "outputs": [
    {
     "name": "stdout",
     "output_type": "stream",
     "text": [
      "['B' 'D']\n"
     ]
    }
   ],
   "source": [
    "#6.\tGiven the X numpy array, show the elements in an odd position.\n",
    "y2= x[1::2]\n",
    "print(y2)"
   ]
  },
  {
   "cell_type": "code",
   "execution_count": 221,
   "id": "cde07a11",
   "metadata": {},
   "outputs": [
    {
     "data": {
      "text/plain": [
       "array([1, 2, 3, 4])"
      ]
     },
     "execution_count": 221,
     "metadata": {},
     "output_type": "execute_result"
    }
   ],
   "source": [
    "#7.\tGiven the X numpy matrix, show the first row’s elements.\n",
    "x = np.array ([[1,2,3,4], [5,6,7,8], [9,10,11,12], [13,14,15,16]])\n",
    "x[0]"
   ]
  },
  {
   "cell_type": "code",
   "execution_count": 222,
   "id": "f7b58db3",
   "metadata": {},
   "outputs": [
    {
     "data": {
      "text/plain": [
       "array([13, 14, 15, 16])"
      ]
     },
     "execution_count": 222,
     "metadata": {},
     "output_type": "execute_result"
    }
   ],
   "source": [
    "# 8.\tGiven the X numpy matrix, show the last row elements.\n",
    "x[-1]"
   ]
  },
  {
   "cell_type": "code",
   "execution_count": 225,
   "id": "da58cc4e",
   "metadata": {},
   "outputs": [
    {
     "data": {
      "text/plain": [
       "1"
      ]
     },
     "execution_count": 225,
     "metadata": {},
     "output_type": "execute_result"
    }
   ],
   "source": [
    "#9.\tGiven the X numpy matrix, show the first element on first row\n",
    "x[0][0]"
   ]
  },
  {
   "cell_type": "code",
   "execution_count": 265,
   "id": "4f00a75b",
   "metadata": {},
   "outputs": [
    {
     "data": {
      "text/plain": [
       "16"
      ]
     },
     "execution_count": 265,
     "metadata": {},
     "output_type": "execute_result"
    }
   ],
   "source": [
    "#10.\tGiven the X numpy matrix, show the last element on last row.\n",
    "x[-1][-1]"
   ]
  },
  {
   "cell_type": "code",
   "execution_count": 262,
   "id": "ac43037c",
   "metadata": {},
   "outputs": [
    {
     "name": "stdout",
     "output_type": "stream",
     "text": [
      "[[1 2]\n",
      " [5 6]]\n"
     ]
    }
   ],
   "source": [
    "#11.\tGiven the X numpy matrix, show the first two elements on the first two rows.\n",
    "x = np.array ([[1,2,3,4], [5,6,7,8], [9,10,11,12], [13,14,15,16]])\n",
    "x4= x[:2, :2]\n",
    "print(x4)"
   ]
  },
  {
   "cell_type": "code",
   "execution_count": 264,
   "id": "94006640",
   "metadata": {},
   "outputs": [
    {
     "name": "stdout",
     "output_type": "stream",
     "text": [
      "[[11 12]\n",
      " [15 16]]\n"
     ]
    }
   ],
   "source": [
    "#12.\tGiven the X numpy matrix, show the last two elements on the last two rows\n",
    "x6= x[-2:, -2:]\n",
    "print(x6)"
   ]
  },
  {
   "cell_type": "code",
   "execution_count": 241,
   "id": "0074e2dc",
   "metadata": {},
   "outputs": [
    {
     "name": "stdout",
     "output_type": "stream",
     "text": [
      "[-5. -3.  0. 10. 40.]\n"
     ]
    }
   ],
   "source": [
    "#Array manipulation\n",
    "#1.\tConvert the given integer numpy array to float \n",
    "x= np.array([-5, -3, 0, 10, 40])\n",
    "y = np.asfarray(x)\n",
    "print(y)"
   ]
  },
  {
   "cell_type": "code",
   "execution_count": 244,
   "id": "5b958422",
   "metadata": {},
   "outputs": [
    {
     "data": {
      "text/plain": [
       "array([40, 10,  0, -3, -5])"
      ]
     },
     "execution_count": 244,
     "metadata": {},
     "output_type": "execute_result"
    }
   ],
   "source": [
    "#2.\tReverse the given numpy array (first element becomes last) through indexing\n",
    "x[::-1]"
   ]
  },
  {
   "cell_type": "code",
   "execution_count": 250,
   "id": "e011db31",
   "metadata": {},
   "outputs": [
    {
     "name": "stdout",
     "output_type": "stream",
     "text": [
      "[0. 0. 0. 0. 1. 0. 0. 0. 0. 0.]\n"
     ]
    }
   ],
   "source": [
    "#3.\tGiven the X numpy array, set the fifth element equal to 1\n",
    "x = np.zeros(10)\n",
    "x[4] = 1\n",
    "print(x)"
   ]
  },
  {
   "cell_type": "code",
   "execution_count": 254,
   "id": "c29fdcb3",
   "metadata": {},
   "outputs": [
    {
     "name": "stdout",
     "output_type": "stream",
     "text": [
      "[[ 1  2  3  4]\n",
      " [ 5  6  7  8]\n",
      " [ 9 10 11 12]\n",
      " [ 1  1  1  1]]\n"
     ]
    }
   ],
   "source": [
    "#4.\tGiven the X numpy matrix, change the last row with all 1\n",
    "x = np.array([[1,   2,  3,  4],\n",
    "                [5,   6,  7,  8],\n",
    "                [9,  10, 11, 12],\n",
    "                [13, 14, 15, 16]             \n",
    "             \n",
    "             ])\n",
    "\n",
    "x[3] = 1\n",
    "print(x)"
   ]
  },
  {
   "cell_type": "code",
   "execution_count": 258,
   "id": "e5dacd16",
   "metadata": {},
   "outputs": [
    {
     "name": "stdout",
     "output_type": "stream",
     "text": [
      "[[ 6  7  8  9]\n",
      " [10 11 12 13]\n",
      " [14 15 16 17]\n",
      " [ 6  6  6  6]]\n"
     ]
    }
   ],
   "source": [
    "#\t5.\tGiven the X numpy matrix, add 5 to every element\n",
    "x+=5\n",
    "print(x)"
   ]
  }
 ],
 "metadata": {
  "kernelspec": {
   "display_name": "Python 3 (ipykernel)",
   "language": "python",
   "name": "python3"
  },
  "language_info": {
   "codemirror_mode": {
    "name": "ipython",
    "version": 3
   },
   "file_extension": ".py",
   "mimetype": "text/x-python",
   "name": "python",
   "nbconvert_exporter": "python",
   "pygments_lexer": "ipython3",
   "version": "3.11.5"
  }
 },
 "nbformat": 4,
 "nbformat_minor": 5
}
